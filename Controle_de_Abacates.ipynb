{
  "nbformat": 4,
  "nbformat_minor": 0,
  "metadata": {
    "colab": {
      "name": "Controle de Abacates.ipynb",
      "provenance": [],
      "private_outputs": true,
      "authorship_tag": "ABX9TyPRn31szbU0hq0dxgRRhhGp",
      "include_colab_link": true
    },
    "kernelspec": {
      "name": "python3",
      "display_name": "Python 3"
    }
  },
  "cells": [
    {
      "cell_type": "markdown",
      "metadata": {
        "id": "view-in-github",
        "colab_type": "text"
      },
      "source": [
        "<a href=\"https://colab.research.google.com/github/ALXAVIER-DEV/curso_data_science_na_pratica/blob/master/Controle_de_Abacates.ipynb\" target=\"_parent\"><img src=\"https://colab.research.google.com/assets/colab-badge.svg\" alt=\"Open In Colab\"/></a>"
      ]
    },
    {
      "cell_type": "code",
      "metadata": {
        "id": "U_vLwKPrN0xt",
        "colab_type": "code",
        "colab": {}
      },
      "source": [
        "pip install pdf_reports -q"
      ],
      "execution_count": null,
      "outputs": []
    },
    {
      "cell_type": "code",
      "metadata": {
        "id": "14dLgcErOxNX",
        "colab_type": "code",
        "colab": {}
      },
      "source": [
        "import pandas as pd\n",
        "from  datetime import datetime\n",
        "from pdf_reports import pug_to_html, write_report"
      ],
      "execution_count": null,
      "outputs": []
    },
    {
      "cell_type": "code",
      "metadata": {
        "id": "5eQIcpv4PJC4",
        "colab_type": "code",
        "colab": {}
      },
      "source": [
        "plan = pd.read_excel('/controle_de_abacates.xlsx')"
      ],
      "execution_count": null,
      "outputs": []
    },
    {
      "cell_type": "code",
      "metadata": {
        "id": "tw5s1IdLPzi9",
        "colab_type": "code",
        "colab": {}
      },
      "source": [
        "plan"
      ],
      "execution_count": null,
      "outputs": []
    },
    {
      "cell_type": "code",
      "metadata": {
        "id": "Ze8NBq0fP6ve",
        "colab_type": "code",
        "colab": {}
      },
      "source": [
        "hoje = datetime.now()"
      ],
      "execution_count": null,
      "outputs": []
    },
    {
      "cell_type": "code",
      "metadata": {
        "id": "EaEmrG7DQJm9",
        "colab_type": "code",
        "colab": {}
      },
      "source": [
        "hoje"
      ],
      "execution_count": null,
      "outputs": []
    },
    {
      "cell_type": "code",
      "metadata": {
        "id": "w-AWJZvyQKxt",
        "colab_type": "code",
        "colab": {}
      },
      "source": [
        "print(hoje)"
      ],
      "execution_count": null,
      "outputs": []
    },
    {
      "cell_type": "code",
      "metadata": {
        "id": "jIS5SY5BQUQt",
        "colab_type": "code",
        "colab": {}
      },
      "source": [
        "html = pug_to_html(\"/modelo_de_relatorio.pug\", planilha = plan, hoje=hoje)"
      ],
      "execution_count": null,
      "outputs": []
    },
    {
      "cell_type": "code",
      "metadata": {
        "id": "bYd6L2uLUn0d",
        "colab_type": "code",
        "colab": {}
      },
      "source": [
        "write_report(html, \"controle_abacates_relatorio.pdf\")"
      ],
      "execution_count": null,
      "outputs": []
    },
    {
      "cell_type": "code",
      "metadata": {
        "id": "_hkldEmwVMdr",
        "colab_type": "code",
        "colab": {}
      },
      "source": [
        ""
      ],
      "execution_count": null,
      "outputs": []
    }
  ]
}