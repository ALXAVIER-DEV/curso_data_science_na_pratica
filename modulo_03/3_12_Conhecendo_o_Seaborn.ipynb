{
  "nbformat": 4,
  "nbformat_minor": 0,
  "metadata": {
    "colab": {
      "name": "3.12 - Conhecendo o Seaborn.ipynb",
      "provenance": [],
      "include_colab_link": true
    },
    "kernelspec": {
      "name": "python3",
      "display_name": "Python 3"
    }
  },
  "cells": [
    {
      "cell_type": "markdown",
      "metadata": {
        "id": "view-in-github",
        "colab_type": "text"
      },
      "source": [
        "<a href=\"https://colab.research.google.com/github/carlosfab/curso_data_science_na_pratica/blob/master/modulo_03/3_12_Conhecendo_o_Seaborn.ipynb\" target=\"_parent\"><img src=\"https://colab.research.google.com/assets/colab-badge.svg\" alt=\"Open In Colab\"/></a>"
      ]
    },
    {
      "cell_type": "markdown",
      "metadata": {
        "id": "1cI-fbUweStm",
        "colab_type": "text"
      },
      "source": [
        "# Conhecendo o Seaborn\n",
        "\n",
        "Seaborn é uma biblioteca de visualização do Python baseada no `matplotlib`. Fornecendo uma itnerface de alto nível, permite a construção de gráficos estatísticos mais atraentes e informaticos.\n",
        "\n",
        "<p align=center><img src=\"https://raw.githubusercontent.com/carlosfab/curso_data_science_na_pratica/master/modulo_03/seaborn.png\"></p>\n",
        "\n",
        "Para você ter uma noção dos tipos de gráficos que podem ser construídos com a biblioteca `seaborn`, dê uma olhada na [galeria de exemplos](https://seaborn.pydata.org/examples/index.html#example-gallery) ou acompanhe os [tutoriais](https://seaborn.pydata.org/tutorial.html#tutorial) fornecidos na própria documentação do pacote.\n",
        "\n",
        "Se você está se perguntando o motivo pelo qual você usaria o `seaborn` e não `matplotlib`, eu posso te dar algumas vantagens:\n",
        "\n",
        "* Matplotlib não é otimizado para o Pandas, uma vez que é mais antigo (veio antes) que ele.\n",
        "* Matplotlib é baixo nível se comparado ao Seaborn. Ser mais baixo nível significa que você precisa de mais código e mais trabalho para conseguir customizar seus gráficos.\n",
        "* Deixar um gráfico *sexy* e atraente no Matplotlib pode ser uma tarefá árdua!\n",
        "* Há vários tipos de gráficos não contemplados no Matplotlib, mas que estão presentes no Seaborn."
      ]
    },
    {
      "cell_type": "markdown",
      "metadata": {
        "id": "LiN1l_QsCnot",
        "colab_type": "text"
      },
      "source": [
        "## Aplicando o estilo do Seaborn no Matplotlib\n",
        "\n",
        "O Seaborn fornece uma interface mais *high-level* para criarmos gráficos elaborados, visualmente melhores e mais complexos. É muito comum vermos *notebooks* de *Data Science* usando `seaborn` como biblioteca primária para plotar gráficos.\n",
        "\n",
        "Entretanto, mesmo quem prefere usar o `matplotlib` consegue tirar proveito do estilo que está por trás do `seaborn`."
      ]
    },
    {
      "cell_type": "code",
      "metadata": {
        "id": "1nuIhVt9fWd8",
        "colab_type": "code",
        "colab": {}
      },
      "source": [
        "# importar pacotes\n",
        "import numpy as np\n",
        "import matplotlib.pyplot as plt"
      ],
      "execution_count": 0,
      "outputs": []
    },
    {
      "cell_type": "code",
      "metadata": {
        "id": "KsIJ-sI2AJXv",
        "colab_type": "code",
        "colab": {}
      },
      "source": [
        "# gerar dados aleatórios\n",
        "x = np.arange(100)\n",
        "y = np.random.random_integers(-50, 50, 100)\n",
        "\n",
        "# plotar o gráfico com MATPLOTLIB\n",
        "fig, ax = plt.subplots(figsize=(8,4))\n",
        "ax.plot(x, y)\n",
        "\n",
        "plt.tight_layout()"
      ],
      "execution_count": 0,
      "outputs": []
    },
    {
      "cell_type": "markdown",
      "metadata": {
        "id": "bANbiipSDkTQ",
        "colab_type": "text"
      },
      "source": [
        "O gráfico acima é bem no estilo que estamos acostumados até então aqui no curso. Mas veja só o que é possível melhorar apenas importando a biblioteca `seaborn` e chamando o método `sns.set()`."
      ]
    },
    {
      "cell_type": "code",
      "metadata": {
        "id": "-bVZ32CrARW9",
        "colab_type": "code",
        "colab": {}
      },
      "source": [
        "# importar seaborn\n",
        "import seaborn as sns\n",
        "sns.set()\n",
        "\n",
        "# plotar o gráfico com MATPLOTLIB usando estilo do Seaborn\n",
        "fig, ax = plt.subplots(figsize=(8,4))\n",
        "ax.plot(x, y)\n",
        "\n",
        "plt.tight_layout()"
      ],
      "execution_count": 0,
      "outputs": []
    },
    {
      "cell_type": "markdown",
      "metadata": {
        "id": "NBdJHZKBBELn",
        "colab_type": "text"
      },
      "source": [
        "Repare que usamos exatamente a mesma função para plotar o gráfico com o `matplotilib`. No entanto, ele já ganhou um visual bem mais moderno e agradável aos olhos."
      ]
    },
    {
      "cell_type": "markdown",
      "metadata": {
        "id": "lVsfPwa24okx",
        "colab_type": "text"
      },
      "source": [
        "## Alguns exemplos do Seaborn\n",
        "\n",
        "Quando você estiver confortável com o `matplotlib` e quiser dar um passo a mais, comece a ver a sua documentação e faça alguns exemplos dos [tutoriais oficiais](https://seaborn.pydata.org/tutorial.html#tutorial). Lembre-se que esse é um *plus*, mas antes disso você precisa **fortalecer os conceitos e as bases**. Não adianta nada você saber \"copiar\" gráficos bonitos se não tiver noção do que eles representam. \n",
        "\n",
        "Vou apresentar aqui alguns gráficos mais complexos e avançados, só para você ter ideia do mundo de visualização de dados que existe por aí."
      ]
    },
    {
      "cell_type": "code",
      "metadata": {
        "id": "u0K8IdUe6svo",
        "colab_type": "code",
        "colab": {}
      },
      "source": [
        "# JOINT PLOT\n",
        "sns.jointplot(x, y, kind='kde')\n",
        "plt.show()"
      ],
      "execution_count": 0,
      "outputs": []
    },
    {
      "cell_type": "code",
      "metadata": {
        "id": "AeSctEvV7WcK",
        "colab_type": "code",
        "colab": {}
      },
      "source": [
        "# DATA + REGRESSÃO LINEAR\n",
        "\n",
        "# gerar dados aleatórios\n",
        "a = np.arange(100)\n",
        "b = 3 * a + 14 + np.random.normal(0, 40, len(a))\n",
        "\n",
        "sns.regplot(a, b)\n",
        "plt.show()"
      ],
      "execution_count": 0,
      "outputs": []
    },
    {
      "cell_type": "code",
      "metadata": {
        "id": "XqnbwAY072Jb",
        "colab_type": "code",
        "colab": {}
      },
      "source": [
        "# HEATMAP\n",
        "\n",
        "# importar dataset da UCI\n",
        "import pandas as pd\n",
        "dataset_uci = \"https://raw.githubusercontent.com/carlosfab/curso_data_science_na_pratica/master/modulo_03/heart-disease-uci.csv\"\n",
        "df_heart = pd.read_csv(dataset_uci)\n",
        "\n",
        "# heatmap (mapa de calor)\n",
        "sns.heatmap(df_heart.corr())\n",
        "plt.show()"
      ],
      "execution_count": 0,
      "outputs": []
    },
    {
      "cell_type": "code",
      "metadata": {
        "id": "Mtez5Q_i9BWZ",
        "colab_type": "code",
        "colab": {}
      },
      "source": [
        "# COUNTPLOT\n",
        "\n",
        "# importar dados do CENIPA\n",
        "df_cenipa = pd.read_csv(\"https://raw.githubusercontent.com/carlosfab/curso_data_science_na_pratica/master/modulo_02/ocorrencias_aviacao.csv\")\n",
        "\n",
        "sns.countplot(df_cenipa[\"ocorrencia_classificacao\"])\n",
        "plt.show()"
      ],
      "execution_count": 0,
      "outputs": []
    }
  ]
}