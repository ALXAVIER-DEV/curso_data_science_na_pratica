{
  "nbformat": 4,
  "nbformat_minor": 0,
  "metadata": {
    "colab": {
      "name": "3.9 - Boxplot.ipynb",
      "provenance": [],
      "include_colab_link": true
    },
    "kernelspec": {
      "name": "python3",
      "display_name": "Python 3"
    }
  },
  "cells": [
    {
      "cell_type": "markdown",
      "metadata": {
        "id": "view-in-github",
        "colab_type": "text"
      },
      "source": [
        "<a href=\"https://colab.research.google.com/github/carlosfab/curso_data_science_na_pratica/blob/master/modulo_03/3_9_Boxplot.ipynb\" target=\"_parent\"><img src=\"https://colab.research.google.com/assets/colab-badge.svg\" alt=\"Open In Colab\"/></a>"
      ]
    },
    {
      "cell_type": "markdown",
      "metadata": {
        "id": "OkivAeTKijg4",
        "colab_type": "text"
      },
      "source": [
        "# Boxplot\n",
        "\n",
        "*Boxplot*, ou diagrama de caixa em português, é uma ferramenta estatística que consegue representar a variação de uma variável utilizando quartis.\n",
        "\n",
        "Os limites inferior e superior se extendem para fora do boxplot para conseguir representar a variabilidade da distribuição dos dados. Valores que estejam além desses limites podem ser considerados como sendo *outliers*.\n",
        "\n",
        "Uma coisa que vale a pena ressaltar é que entre o primeiro e o terceiro quartil está a mediana, que também é o segundo quartil do *boxplot*. \n",
        "\n",
        "<center><img src=\"https://upload.wikimedia.org/wikipedia/commons/thumb/c/c9/Elements_of_a_boxplot_pt.svg/2560px-Elements_of_a_boxplot_pt.svg.png\"width=\"450px\"></center>\n",
        "\n",
        "A figura abaixo representa muito bem como estão relacionados o *boxplot* e a função densidade de probabilidade de uma população que segue uma distribuição normal $N(0, 1\\sigma^2)$.\n",
        "\n",
        "<center><img src=\"https://upload.wikimedia.org/wikipedia/commons/thumb/1/1a/Boxplot_vs_PDF.svg/1920px-Boxplot_vs_PDF.svg.png\"width=\"400px\"></center>"
      ]
    },
    {
      "cell_type": "markdown",
      "metadata": {
        "id": "kkYfgbqwrTmq",
        "colab_type": "text"
      },
      "source": [
        "## Plotar o boxplot\n",
        "\n",
        "Para exemplificar o gráfico de linhas, vou usar um *dataset* contendo o número de casos (mensal) de dengue para a cidade de Campinas-SP. Vamos plotar os gráficos para as temperaturas do nosso *dataset*."
      ]
    },
    {
      "cell_type": "code",
      "metadata": {
        "id": "QoT66QjPoThl",
        "colab_type": "code",
        "outputId": "a177d904-8650-48f9-afff-fa4f22d3bf4e",
        "colab": {
          "base_uri": "https://localhost:8080/",
          "height": 235
        }
      },
      "source": [
        "# importar bibliotecas\n",
        "import pandas as pd\n",
        "import matplotlib.pyplot as plt\n",
        "\n",
        "# importar dados para dataframe\n",
        "data = \"https://raw.githubusercontent.com/carlosfab/curso_data_science_na_pratica/master/modulo_03/dengue-dataset.csv\"\n",
        "df = pd.read_csv(data, index_col=\"data\", parse_dates=True)\n",
        "\n",
        "# ver as 5 primeiras entradas\n",
        "df.head()"
      ],
      "execution_count": 0,
      "outputs": [
        {
          "output_type": "execute_result",
          "data": {
            "text/html": [
              "<div>\n",
              "<style scoped>\n",
              "    .dataframe tbody tr th:only-of-type {\n",
              "        vertical-align: middle;\n",
              "    }\n",
              "\n",
              "    .dataframe tbody tr th {\n",
              "        vertical-align: top;\n",
              "    }\n",
              "\n",
              "    .dataframe thead th {\n",
              "        text-align: right;\n",
              "    }\n",
              "</style>\n",
              "<table border=\"1\" class=\"dataframe\">\n",
              "  <thead>\n",
              "    <tr style=\"text-align: right;\">\n",
              "      <th></th>\n",
              "      <th>casos-confirmados</th>\n",
              "      <th>chuva</th>\n",
              "      <th>temperatura-media</th>\n",
              "      <th>temperatura-mininima</th>\n",
              "      <th>temperatura-maxima</th>\n",
              "    </tr>\n",
              "    <tr>\n",
              "      <th>data</th>\n",
              "      <th></th>\n",
              "      <th></th>\n",
              "      <th></th>\n",
              "      <th></th>\n",
              "      <th></th>\n",
              "    </tr>\n",
              "  </thead>\n",
              "  <tbody>\n",
              "    <tr>\n",
              "      <th>1998-01-01</th>\n",
              "      <td>237</td>\n",
              "      <td>179.2</td>\n",
              "      <td>25.7</td>\n",
              "      <td>20.2</td>\n",
              "      <td>28.1</td>\n",
              "    </tr>\n",
              "    <tr>\n",
              "      <th>1998-02-01</th>\n",
              "      <td>331</td>\n",
              "      <td>226.3</td>\n",
              "      <td>25.1</td>\n",
              "      <td>20.0</td>\n",
              "      <td>28.0</td>\n",
              "    </tr>\n",
              "    <tr>\n",
              "      <th>1998-03-01</th>\n",
              "      <td>562</td>\n",
              "      <td>149.1</td>\n",
              "      <td>24.8</td>\n",
              "      <td>22.4</td>\n",
              "      <td>27.2</td>\n",
              "    </tr>\n",
              "    <tr>\n",
              "      <th>1998-04-01</th>\n",
              "      <td>187</td>\n",
              "      <td>46.4</td>\n",
              "      <td>22.7</td>\n",
              "      <td>18.1</td>\n",
              "      <td>26.0</td>\n",
              "    </tr>\n",
              "    <tr>\n",
              "      <th>1998-05-01</th>\n",
              "      <td>32</td>\n",
              "      <td>88.3</td>\n",
              "      <td>19.2</td>\n",
              "      <td>15.7</td>\n",
              "      <td>22.9</td>\n",
              "    </tr>\n",
              "  </tbody>\n",
              "</table>\n",
              "</div>"
            ],
            "text/plain": [
              "            casos-confirmados  chuva  ...  temperatura-mininima  temperatura-maxima\n",
              "data                                  ...                                          \n",
              "1998-01-01                237  179.2  ...                  20.2                28.1\n",
              "1998-02-01                331  226.3  ...                  20.0                28.0\n",
              "1998-03-01                562  149.1  ...                  22.4                27.2\n",
              "1998-04-01                187   46.4  ...                  18.1                26.0\n",
              "1998-05-01                 32   88.3  ...                  15.7                22.9\n",
              "\n",
              "[5 rows x 5 columns]"
            ]
          },
          "metadata": {
            "tags": []
          },
          "execution_count": 1
        }
      ]
    },
    {
      "cell_type": "code",
      "metadata": {
        "id": "cp8jkIYUqfoJ",
        "colab_type": "code",
        "outputId": "bfabae54-7571-440d-cdc7-e2d62f393b4e",
        "colab": {
          "base_uri": "https://localhost:8080/",
          "height": 297
        }
      },
      "source": [
        "# plotar o boxplot para as temperaturas\n",
        "fig, ax = plt.subplots()\n",
        "\n",
        "df.boxplot([\"temperatura-media\", 'temperatura-mininima', 'temperatura-maxima'], ax=ax)\n",
        "\n",
        "plt.tight_layout()"
      ],
      "execution_count": 0,
      "outputs": [
        {
          "output_type": "display_data",
          "data": {
            "image/png": "[encoded data removed]",
            "text/plain": [
              "<Figure size 432x288 with 1 Axes>"
            ]
          },
          "metadata": {
            "tags": []
          }
        }
      ]
    },
    {
      "cell_type": "markdown",
      "metadata": {
        "id": "_3h4Jno73OKp",
        "colab_type": "text"
      },
      "source": [
        "Nos *plots* acima, os *boxplots* estão na vertical, porém é possível colocá-los na horizontal apenas informando `vert=False`."
      ]
    },
    {
      "cell_type": "code",
      "metadata": {
        "id": "jJ7zVLCz3ebm",
        "colab_type": "code",
        "outputId": "622c5ba7-af43-48ec-fa48-ad7b06e4e690",
        "colab": {
          "base_uri": "https://localhost:8080/",
          "height": 297
        }
      },
      "source": [
        "# plotar o boxplot para casos confirmados\n",
        "fig, ax = plt.subplots()\n",
        "\n",
        "df.boxplot(['casos-confirmados'], vert=False, ax=ax)\n",
        "\n",
        "plt.tight_layout()"
      ],
      "execution_count": 0,
      "outputs": [
        {
          "output_type": "display_data",
          "data": {
            "image/png": "[encoded data removed]",
            "text/plain": [
              "<Figure size 432x288 with 1 Axes>"
            ]
          },
          "metadata": {
            "tags": []
          }
        }
      ]
    },
    {
      "cell_type": "markdown",
      "metadata": {
        "id": "GSiLDKUY3lVK",
        "colab_type": "text"
      },
      "source": [
        "Olhe como nosso *dataset* parece distorcer a realidade. Provavelmente não houve um aumento desses nos casos de dengue confirmados. Há várias possibilidades para isso ter acontecido. Pode ser que não se lançavam os dados corretamente antigamente, mudança na metodologia ou erros nos lançamentos atuais.\n",
        "\n",
        "Vamos estabelecer um ponto de corte arbitrário para ver como fica a distribuição."
      ]
    },
    {
      "cell_type": "code",
      "metadata": {
        "id": "HqzsxzuQ30FY",
        "colab_type": "code",
        "outputId": "8efeb355-e274-4b60-e0a2-ca5630051851",
        "colab": {
          "base_uri": "https://localhost:8080/",
          "height": 297
        }
      },
      "source": [
        "# plotar o boxplot para casos confirmados, com corte arbitrário\n",
        "fig, ax = plt.subplots()\n",
        "\n",
        "df.loc[df[\"casos-confirmados\"] < 150].boxplot(['casos-confirmados'], vert=False, ax=ax)\n",
        "\n",
        "plt.tight_layout()"
      ],
      "execution_count": 0,
      "outputs": [
        {
          "output_type": "display_data",
          "data": {
            "image/png": "[encoded data removed]",
            "text/plain": [
              "<Figure size 432x288 with 1 Axes>"
            ]
          },
          "metadata": {
            "tags": []
          }
        }
      ]
    }
  ]
}