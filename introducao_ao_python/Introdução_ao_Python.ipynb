{
  "nbformat": 4,
  "nbformat_minor": 0,
  "metadata": {
    "colab": {
      "name": "Introdução ao Python",
      "version": "0.3.2",
      "provenance": [],
      "collapsed_sections": [],
      "include_colab_link": true
    },
    "kernelspec": {
      "name": "python3",
      "display_name": "Python 3"
    }
  },
  "cells": [
    {
      "cell_type": "markdown",
      "metadata": {
        "id": "view-in-github",
        "colab_type": "text"
      },
      "source": [
        "<a href=\"https://colab.research.google.com/github/carlosfab/curso_data_science_na_pratica/blob/master/introducao_ao_python/Introdu%C3%A7%C3%A3o_ao_Python.ipynb\" target=\"_parent\"><img src=\"https://colab.research.google.com/assets/colab-badge.svg\" alt=\"Open In Colab\"/></a>"
      ]
    },
    {
      "cell_type": "markdown",
      "metadata": {
        "id": "dy92aaZbC74S",
        "colab_type": "text"
      },
      "source": [
        "<p><img alt=\"Colaboratory logo\" width=\"10%\" src=\"http://sigmoidal.ai/wp-content/uploads/2019/09/logo_sigmoidal_s.png\" align=\"left\" hspace=\"10px\" vspace=\"0px\"></p>\n",
        "\n",
        "<h1>Introdução ao Python</h1>\n",
        "\n",
        "\n",
        "Google Colab é um ambiente Jupyter notebook que roda inteiramente na nuvem. Ou seja, você consegue criar e rodar seus projetos de Data Science sem perder tempo configurando sua máquina local."
      ]
    },
    {
      "cell_type": "markdown",
      "metadata": {
        "id": "AxVxcYQflA4y",
        "colab_type": "text"
      },
      "source": [
        "## Comentários\n",
        "\n",
        "Comentários são códigos que não serão executados, mas servem para documentar o seu código. Imagine você fazer um script que tenha 200 linhas e tentar entender ele daqui a 6 meses.\n",
        "\n",
        "Uma boa prática é sempre comentar de maneira que qualquer pessoa seja capaz de entender a lógica que você implementou.\n",
        "\n",
        "Para comentar um pedaço do código, é só colocar o caráter `#` seguido do comentário. "
      ]
    },
    {
      "cell_type": "code",
      "metadata": {
        "id": "2cNfnIJ5lwqN",
        "colab_type": "code",
        "colab": {}
      },
      "source": [
        "# importar bibliotecas necessárias\n",
        "import math\n",
        "\n",
        "# declaração dos parâmetros do modelo\n",
        "taxa_evaporacao = 0.05\n",
        "var_aleatoria = 10.4\n",
        "\n",
        "# otimização do modelo baseado nos parâmetros\n",
        "resultado_otimo = var_aleatoria / (1 + math.exp(-taxa_evaporacao))"
      ],
      "execution_count": 0,
      "outputs": []
    },
    {
      "cell_type": "markdown",
      "metadata": {
        "id": "YT5gvW11nAV9",
        "colab_type": "text"
      },
      "source": [
        "## Função print\n",
        "\n",
        "Para \"imprimir\" uma variável na tela, usamos a função `print()`, passando a variável/valor desejado como argumento.\n",
        "\n",
        "Por exemplo, vamos imprimir o resultado da célula anterior:"
      ]
    },
    {
      "cell_type": "code",
      "metadata": {
        "id": "2kQDDAzEnY-H",
        "colab_type": "code",
        "outputId": "e911a46b-8403-44a2-fe0c-6b66ad069ca4",
        "colab": {
          "base_uri": "https://localhost:8080/",
          "height": 34
        }
      },
      "source": [
        "# imprimir o resultado ótimo\n",
        "print(resultado_otimo)"
      ],
      "execution_count": 0,
      "outputs": [
        {
          "output_type": "stream",
          "text": [
            "5.329972923435788\n"
          ],
          "name": "stdout"
        }
      ]
    },
    {
      "cell_type": "markdown",
      "metadata": {
        "id": "ELAuyOf5nb4n",
        "colab_type": "text"
      },
      "source": [
        "Uma coisa que mesmo que programa há mais tempo desconhece, é que existem mais argumentos que podem ser passados dentro de `print`. Eu consigo definir:\n",
        "\n",
        "* **value:** é o valor que você quer imprimir na tela (pode ser mais de um, desde que separados por vírgula)\n",
        "* **sep:** é o que vai entre os valores passados (o padrão é um espaço em branco)\n",
        "* **end:** após imprimir os valores, define o que vai acontecer no final da função `print` (o padrão é iniciar uma nova linha com `\\n`)"
      ]
    },
    {
      "cell_type": "code",
      "metadata": {
        "id": "8zZyT4C_oA0k",
        "colab_type": "code",
        "colab": {}
      },
      "source": [
        "# imprimir a lista de nomes com \"->\" separando eles\n",
        "nomes = [\"Carlos\", \"Melo\", \"Sigmoidal\"]\n",
        "\n",
        "print(*nomes, sep=\"->\")"
      ],
      "execution_count": 0,
      "outputs": []
    },
    {
      "cell_type": "markdown",
      "metadata": {
        "id": "q8zQ-qO1mTnf",
        "colab_type": "text"
      },
      "source": [
        "## Tipos de variáveis\n",
        "\n",
        "\n",
        "### Números\n",
        "\n",
        "O interpretador do Python pode ser usado para fazer apenas contas simples. De maneira direta, você digita a expressão matemática, executa a célula e obtém o resultado.\n",
        "\n",
        "Além das operações básicas como **somar** (+), **subtrair** (-), **multiplicar** (\\*) e **dividir** (/), há duas outras bem importantes: **exponenciação** (\\*\\*) e **módulo** (%).\n",
        "\n",
        "O sinal de igual (`=`) é usado para declarar uma variável. Ou seja, você cria uma relação entre um valor e um lugar na memória do computador.\n",
        "\n",
        "Precedência..."
      ]
    },
    {
      "cell_type": "code",
      "metadata": {
        "id": "9mIfil6NAwPg",
        "colab_type": "code",
        "outputId": "1693355c-cc1d-4462-ec6c-964fae1d88ec",
        "colab": {
          "base_uri": "https://localhost:8080/",
          "height": 35
        }
      },
      "source": [
        "# soma\n",
        "10 + 4"
      ],
      "execution_count": 5,
      "outputs": [
        {
          "output_type": "execute_result",
          "data": {
            "text/plain": [
              "14"
            ]
          },
          "metadata": {
            "tags": []
          },
          "execution_count": 5
        }
      ]
    },
    {
      "cell_type": "code",
      "metadata": {
        "id": "QSSmXrfDkZSk",
        "colab_type": "code",
        "colab": {
          "base_uri": "https://localhost:8080/",
          "height": 35
        },
        "outputId": "18266970-e2ed-4bae-89da-d83c821b63ce"
      },
      "source": [
        "# subtração\n",
        "8 - 5"
      ],
      "execution_count": 6,
      "outputs": [
        {
          "output_type": "execute_result",
          "data": {
            "text/plain": [
              "3"
            ]
          },
          "metadata": {
            "tags": []
          },
          "execution_count": 6
        }
      ]
    },
    {
      "cell_type": "code",
      "metadata": {
        "id": "MLdTGs-lAMkr",
        "colab_type": "code",
        "outputId": "8ea8bc48-54fe-46f4-9606-c6db72c87542",
        "colab": {
          "base_uri": "https://localhost:8080/",
          "height": 35
        }
      },
      "source": [
        "# multiplicação\n",
        "5 * 2"
      ],
      "execution_count": 7,
      "outputs": [
        {
          "output_type": "execute_result",
          "data": {
            "text/plain": [
              "10"
            ]
          },
          "metadata": {
            "tags": []
          },
          "execution_count": 7
        }
      ]
    },
    {
      "cell_type": "code",
      "metadata": {
        "id": "AtQh0JnVkZ00",
        "colab_type": "code",
        "colab": {
          "base_uri": "https://localhost:8080/",
          "height": 35
        },
        "outputId": "25e052ee-a495-490f-99de-8eaf6a80b3fc"
      },
      "source": [
        "# divisão\n",
        "15 / 3"
      ],
      "execution_count": 8,
      "outputs": [
        {
          "output_type": "execute_result",
          "data": {
            "text/plain": [
              "5.0"
            ]
          },
          "metadata": {
            "tags": []
          },
          "execution_count": 8
        }
      ]
    },
    {
      "cell_type": "code",
      "metadata": {
        "id": "LUWqv4wTAY4G",
        "colab_type": "code",
        "outputId": "3a3ba835-c8f6-4443-83be-e3e05170c022",
        "colab": {
          "base_uri": "https://localhost:8080/",
          "height": 35
        }
      },
      "source": [
        "# exponenciação\n",
        "2 ** 10"
      ],
      "execution_count": 9,
      "outputs": [
        {
          "output_type": "execute_result",
          "data": {
            "text/plain": [
              "1024"
            ]
          },
          "metadata": {
            "tags": []
          },
          "execution_count": 9
        }
      ]
    },
    {
      "cell_type": "code",
      "metadata": {
        "id": "E4ekeAbrka9P",
        "colab_type": "code",
        "colab": {
          "base_uri": "https://localhost:8080/",
          "height": 35
        },
        "outputId": "6093cc21-d5ca-499b-dc25-f4e18ee16342"
      },
      "source": [
        "# módulo\n",
        "10 % 8"
      ],
      "execution_count": 11,
      "outputs": [
        {
          "output_type": "execute_result",
          "data": {
            "text/plain": [
              "2"
            ]
          },
          "metadata": {
            "tags": []
          },
          "execution_count": 11
        }
      ]
    },
    {
      "cell_type": "markdown",
      "metadata": {
        "id": "gWtjdTVfhUt3",
        "colab_type": "text"
      },
      "source": [
        "**Exercício:** Imagine que você possui R$ 1000,00 para investir na poupança, com um retorno esperado de 5% ao ano. Calcule quando você vai receber em 8 anos.\n"
      ]
    },
    {
      "cell_type": "code",
      "metadata": {
        "id": "EDDOp9YkAhnk",
        "colab_type": "code",
        "outputId": "631331b3-52d2-443f-c369-b0c2a35ad9a9",
        "colab": {
          "base_uri": "https://localhost:8080/",
          "height": 35
        }
      },
      "source": [
        "1000 * (1 + 0.05) ** 8"
      ],
      "execution_count": 14,
      "outputs": [
        {
          "output_type": "execute_result",
          "data": {
            "text/plain": [
              "1477.455443789063"
            ]
          },
          "metadata": {
            "tags": []
          },
          "execution_count": 14
        }
      ]
    },
    {
      "cell_type": "markdown",
      "metadata": {
        "id": "qfpM4noJA09F",
        "colab_type": "text"
      },
      "source": [
        "### Float vs. Int\n",
        "\n",
        "Os números inteiros (como 5, 4, 33) são do tipo `int`, enquanto aqueles números que carregam uma parte fracional (como 5.5, 3.33, 3.14, 5.0) são do tipo `float`. No começo, lidar com tipos de números pode ser confuso, mas a prática vai fazer você entender.\n",
        "\n",
        "Para saber o tipo de uma variável, você pode usar a função `type`."
      ]
    },
    {
      "cell_type": "code",
      "metadata": {
        "id": "UVHU-bx3jKRn",
        "colab_type": "code",
        "outputId": "594cdd91-ad97-4b6f-d95f-2dc9bd471f8e",
        "colab": {
          "base_uri": "https://localhost:8080/",
          "height": 35
        }
      },
      "source": [
        "type(5)  # aqui o 5 é um inteiro"
      ],
      "execution_count": 15,
      "outputs": [
        {
          "output_type": "execute_result",
          "data": {
            "text/plain": [
              "int"
            ]
          },
          "metadata": {
            "tags": []
          },
          "execution_count": 15
        }
      ]
    },
    {
      "cell_type": "code",
      "metadata": {
        "id": "A0LZpJSkmxcs",
        "colab_type": "code",
        "colab": {
          "base_uri": "https://localhost:8080/",
          "height": 35
        },
        "outputId": "b487ce2d-1c82-482b-9a9f-f4dcc65c9e6b"
      },
      "source": [
        "abc = 44.44\n",
        "type(abc)"
      ],
      "execution_count": 16,
      "outputs": [
        {
          "output_type": "execute_result",
          "data": {
            "text/plain": [
              "float"
            ]
          },
          "metadata": {
            "tags": []
          },
          "execution_count": 16
        }
      ]
    },
    {
      "cell_type": "code",
      "metadata": {
        "id": "85KqHl4hjZMk",
        "colab_type": "code",
        "outputId": "c67eefdb-7832-41b6-9490-ccf48fe71e93",
        "colab": {
          "base_uri": "https://localhost:8080/",
          "height": 35
        }
      },
      "source": [
        "type(5.0) # aqui o 5.0 é um float"
      ],
      "execution_count": 17,
      "outputs": [
        {
          "output_type": "execute_result",
          "data": {
            "text/plain": [
              "float"
            ]
          },
          "metadata": {
            "tags": []
          },
          "execution_count": 17
        }
      ]
    },
    {
      "cell_type": "code",
      "metadata": {
        "id": "HIK97rx-kRUy",
        "colab_type": "code",
        "outputId": "c8a2170c-85de-47e8-a8ec-2d006b2d2919",
        "colab": {
          "base_uri": "https://localhost:8080/",
          "height": 35
        }
      },
      "source": [
        "pi = 3.14\n",
        "type(pi)"
      ],
      "execution_count": 18,
      "outputs": [
        {
          "output_type": "execute_result",
          "data": {
            "text/plain": [
              "float"
            ]
          },
          "metadata": {
            "tags": []
          },
          "execution_count": 18
        }
      ]
    },
    {
      "cell_type": "code",
      "metadata": {
        "id": "u5h6CwMam4B5",
        "colab_type": "code",
        "colab": {
          "base_uri": "https://localhost:8080/",
          "height": 35
        },
        "outputId": "5e4a7bf4-40ff-406d-de44-f43c8c4bb161"
      },
      "source": [
        "3 /3"
      ],
      "execution_count": 19,
      "outputs": [
        {
          "output_type": "execute_result",
          "data": {
            "text/plain": [
              "1.0"
            ]
          },
          "metadata": {
            "tags": []
          },
          "execution_count": 19
        }
      ]
    },
    {
      "cell_type": "code",
      "metadata": {
        "id": "cadNEGJ5jcY_",
        "colab_type": "code",
        "outputId": "8898c519-7408-441f-dc12-10123e309e8f",
        "colab": {
          "base_uri": "https://localhost:8080/",
          "height": 69
        }
      },
      "source": [
        "# uma divisão SEMPRE vai retornar um float como resultado\n",
        "print(type(3 / 3))\n",
        "print(type(10.0 / 5))\n",
        "print(type(10.0 / 2.0))"
      ],
      "execution_count": 20,
      "outputs": [
        {
          "output_type": "stream",
          "text": [
            "<class 'float'>\n",
            "<class 'float'>\n",
            "<class 'float'>\n"
          ],
          "name": "stdout"
        }
      ]
    },
    {
      "cell_type": "markdown",
      "metadata": {
        "id": "MNwrEG0kjsYP",
        "colab_type": "text"
      },
      "source": [
        "Existem momentos em que você vai querer converter um `float` em `int`. Isso pode ser feito com `int()`. O mesmo vale para a operação contrário, bastando indicar a variável dentro dos parênteses."
      ]
    },
    {
      "cell_type": "code",
      "metadata": {
        "id": "DQveFX3_j6M-",
        "colab_type": "code",
        "outputId": "50087602-dba1-46d4-bb63-8e52fb7fe7a2",
        "colab": {
          "base_uri": "https://localhost:8080/",
          "height": 35
        }
      },
      "source": [
        "idade = 35.00\n",
        "type(idade)"
      ],
      "execution_count": 21,
      "outputs": [
        {
          "output_type": "execute_result",
          "data": {
            "text/plain": [
              "float"
            ]
          },
          "metadata": {
            "tags": []
          },
          "execution_count": 21
        }
      ]
    },
    {
      "cell_type": "code",
      "metadata": {
        "id": "OAxNHjI6k2mg",
        "colab_type": "code",
        "colab": {
          "base_uri": "https://localhost:8080/",
          "height": 35
        },
        "outputId": "58f2e7ba-766d-4d1d-884e-663a9ee62a8e"
      },
      "source": [
        "# converter\n",
        "idade = int(idade)\n",
        "type(idade)"
      ],
      "execution_count": 22,
      "outputs": [
        {
          "output_type": "execute_result",
          "data": {
            "text/plain": [
              "int"
            ]
          },
          "metadata": {
            "tags": []
          },
          "execution_count": 22
        }
      ]
    },
    {
      "cell_type": "code",
      "metadata": {
        "id": "nMIMUZCAnI9d",
        "colab_type": "code",
        "colab": {
          "base_uri": "https://localhost:8080/",
          "height": 35
        },
        "outputId": "70c30277-e9b1-42db-d0c2-0b168bb27fef"
      },
      "source": [
        "int(3.14567890)"
      ],
      "execution_count": 23,
      "outputs": [
        {
          "output_type": "execute_result",
          "data": {
            "text/plain": [
              "3"
            ]
          },
          "metadata": {
            "tags": []
          },
          "execution_count": 23
        }
      ]
    },
    {
      "cell_type": "code",
      "metadata": {
        "id": "Uk1m6gj0nN40",
        "colab_type": "code",
        "colab": {
          "base_uri": "https://localhost:8080/",
          "height": 35
        },
        "outputId": "1ec1abc5-3e29-4d88-d603-bdaeebd1790b"
      },
      "source": [
        "float(3)"
      ],
      "execution_count": 24,
      "outputs": [
        {
          "output_type": "execute_result",
          "data": {
            "text/plain": [
              "3.0"
            ]
          },
          "metadata": {
            "tags": []
          },
          "execution_count": 24
        }
      ]
    },
    {
      "cell_type": "markdown",
      "metadata": {
        "id": "yPVC0zHqlFMF",
        "colab_type": "text"
      },
      "source": [
        "Existe ainda uma opção quando eu quero realizar uma divisão, porém quero ficar apenas com a parte inteira de um número, descartando toda a parte fracionária. Essa operação pode ser feita usando `//`."
      ]
    },
    {
      "cell_type": "code",
      "metadata": {
        "id": "5Wq-UXGgknWf",
        "colab_type": "code",
        "outputId": "38a91877-202c-4f9f-9f92-e67ef40566cd",
        "colab": {
          "base_uri": "https://localhost:8080/",
          "height": 52
        }
      },
      "source": [
        "print(11 / 3)  # divisão normal com /\n",
        "print(11 // 3) # divisão usando //"
      ],
      "execution_count": 25,
      "outputs": [
        {
          "output_type": "stream",
          "text": [
            "3.6666666666666665\n",
            "3\n"
          ],
          "name": "stdout"
        }
      ]
    },
    {
      "cell_type": "markdown",
      "metadata": {
        "id": "HaJkjmsnkrlB",
        "colab_type": "text"
      },
      "source": [
        "### Strings\n",
        "\n",
        "Outro tipo de variável que o Python manipula naturalmente são as strings. Você vai ver que o interpretador aceita tanto as aspas duplas (`\"`) quanto as aspas simples (`'`)."
      ]
    },
    {
      "cell_type": "code",
      "metadata": {
        "id": "lb8iI_l-ndFE",
        "colab_type": "code",
        "colab": {
          "base_uri": "https://localhost:8080/",
          "height": 35
        },
        "outputId": "c7b5a33a-f187-4b91-b573-d826504646b9"
      },
      "source": [
        "\"c\"\n",
        "\"carlos\""
      ],
      "execution_count": 26,
      "outputs": [
        {
          "output_type": "execute_result",
          "data": {
            "text/plain": [
              "'carlos'"
            ]
          },
          "metadata": {
            "tags": []
          },
          "execution_count": 26
        }
      ]
    },
    {
      "cell_type": "code",
      "metadata": {
        "id": "53pr4lSYnEs_",
        "colab_type": "code",
        "colab": {}
      },
      "source": [
        "\"Exemplo de uma string\""
      ],
      "execution_count": 0,
      "outputs": []
    },
    {
      "cell_type": "code",
      "metadata": {
        "id": "v9Utkzk7nJBZ",
        "colab_type": "code",
        "outputId": "2d9cf45a-8239-4929-de08-e2006fdba81c",
        "colab": {
          "base_uri": "https://localhost:8080/",
          "height": 35
        }
      },
      "source": [
        "nome = \"Carlos Melo\"\n",
        "type(nome)"
      ],
      "execution_count": 27,
      "outputs": [
        {
          "output_type": "execute_result",
          "data": {
            "text/plain": [
              "str"
            ]
          },
          "metadata": {
            "tags": []
          },
          "execution_count": 27
        }
      ]
    },
    {
      "cell_type": "markdown",
      "metadata": {
        "id": "MMNWqyCTnN0J",
        "colab_type": "text"
      },
      "source": [
        "Existem alguns caráteres especiais usados para manipula as strings. Por exemplo, se você usar `\\n` em uma string, você vai quebrar a linha exatamente nesse ponto. Caso você precise de tabulação para imprimir um resultado, pode inserir `\\t` no seu código."
      ]
    },
    {
      "cell_type": "code",
      "metadata": {
        "id": "zwgP64nKnu34",
        "colab_type": "code",
        "outputId": "6f244a54-dd3b-4160-abc7-8c3fa947c03a",
        "colab": {
          "base_uri": "https://localhost:8080/",
          "height": 52
        }
      },
      "source": [
        "print(\"Bom dia,\\nBem vindo ao blog Sigmoidal.\")"
      ],
      "execution_count": 28,
      "outputs": [
        {
          "output_type": "stream",
          "text": [
            "Bom dia,\n",
            "Bem vindo ao blog Sigmoidal.\n"
          ],
          "name": "stdout"
        }
      ]
    },
    {
      "cell_type": "code",
      "metadata": {
        "id": "9FYn-QB1n27_",
        "colab_type": "code",
        "outputId": "d8fbed00-4b90-4956-fc8a-72c12123e73c",
        "colab": {
          "base_uri": "https://localhost:8080/",
          "height": 104
        }
      },
      "source": [
        "# configuração dos parâmetros do modelo\n",
        "alpha = 0.4123122\n",
        "gama = 3.2223\n",
        "num_iter = 10\n",
        "\n",
        "# imprimir os parâmetros na tela\n",
        "print(\"Parâmetros\\n\")\n",
        "print(\"alpha:\\t {:.2}\".format(alpha))\n",
        "print(\"gama:\\t {:.2}\".format(gama))\n",
        "print(\"iter:\\t {}\".format(num_iter))"
      ],
      "execution_count": 30,
      "outputs": [
        {
          "output_type": "stream",
          "text": [
            "Parâmetros\n",
            "\n",
            "alpha:\t 0.41\n",
            "gama:\t 3.2\n",
            "iter:\t 10\n"
          ],
          "name": "stdout"
        }
      ]
    },
    {
      "cell_type": "markdown",
      "metadata": {
        "id": "15SLeKdkqgbz",
        "colab_type": "text"
      },
      "source": [
        "### Bool\n",
        "\n",
        "Esta é uma variável específica para representar Verdadeiro (True) ou Falso (False). São os únicos dois valores possíveis.\n",
        "\n",
        "Por exemplo, vamos supor que no nosso banco de dados da empresa, existe um campo que indica se um cliente fez alguma compra no último mês."
      ]
    },
    {
      "cell_type": "code",
      "metadata": {
        "id": "pystBySuQyQr",
        "colab_type": "code",
        "colab": {
          "base_uri": "https://localhost:8080/",
          "height": 35
        },
        "outputId": "7f75380e-5252-4db5-e966-df3b9c81a96f"
      },
      "source": [
        "comprou = False\n",
        "\n",
        "if comprou:\n",
        "  print(\"O cliente comprou no último mês\")\n",
        "else:\n",
        "  print(\"O cliente não comprou no último mês\")"
      ],
      "execution_count": 31,
      "outputs": [
        {
          "output_type": "stream",
          "text": [
            "O cliente não comprou no último mês\n"
          ],
          "name": "stdout"
        }
      ]
    },
    {
      "cell_type": "code",
      "metadata": {
        "id": "HqyEtKFloUXQ",
        "colab_type": "code",
        "colab": {
          "base_uri": "https://localhost:8080/",
          "height": 35
        },
        "outputId": "ae33c6f7-09e0-453e-d08a-801f6fe9c4c2"
      },
      "source": [
        "1 == True"
      ],
      "execution_count": 34,
      "outputs": [
        {
          "output_type": "execute_result",
          "data": {
            "text/plain": [
              "True"
            ]
          },
          "metadata": {
            "tags": []
          },
          "execution_count": 34
        }
      ]
    },
    {
      "cell_type": "markdown",
      "metadata": {
        "id": "BVHddC2RRErJ",
        "colab_type": "text"
      },
      "source": [
        "Também, pode servir para analisar expressões como a de baixo:"
      ]
    },
    {
      "cell_type": "code",
      "metadata": {
        "id": "xmhDamYVRR_E",
        "colab_type": "code",
        "colab": {
          "base_uri": "https://localhost:8080/",
          "height": 35
        },
        "outputId": "21dfb73d-9a87-4f0b-8c47-143364117fc9"
      },
      "source": [
        "4 + 5 == 11"
      ],
      "execution_count": 35,
      "outputs": [
        {
          "output_type": "execute_result",
          "data": {
            "text/plain": [
              "False"
            ]
          },
          "metadata": {
            "tags": []
          },
          "execution_count": 35
        }
      ]
    },
    {
      "cell_type": "code",
      "metadata": {
        "id": "1rP29iBrRUMD",
        "colab_type": "code",
        "colab": {
          "base_uri": "https://localhost:8080/",
          "height": 35
        },
        "outputId": "dff3bd54-7c15-452d-bcbf-df32e070bd72"
      },
      "source": [
        "4 + 5 != 11"
      ],
      "execution_count": 36,
      "outputs": [
        {
          "output_type": "execute_result",
          "data": {
            "text/plain": [
              "True"
            ]
          },
          "metadata": {
            "tags": []
          },
          "execution_count": 36
        }
      ]
    },
    {
      "cell_type": "code",
      "metadata": {
        "id": "d069t6VKokQX",
        "colab_type": "code",
        "colab": {}
      },
      "source": [
        ""
      ],
      "execution_count": 0,
      "outputs": []
    }
  ]
}