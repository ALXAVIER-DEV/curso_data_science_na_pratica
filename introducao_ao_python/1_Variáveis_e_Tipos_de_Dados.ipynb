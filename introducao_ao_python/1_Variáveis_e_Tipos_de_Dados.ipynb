{
  "nbformat": 4,
  "nbformat_minor": 0,
  "metadata": {
    "colab": {
      "name": "1 - Variáveis e Tipos de Dados",
      "version": "0.3.2",
      "provenance": [],
      "collapsed_sections": [],
      "include_colab_link": true
    },
    "kernelspec": {
      "name": "python3",
      "display_name": "Python 3"
    }
  },
  "cells": [
    {
      "cell_type": "markdown",
      "metadata": {
        "id": "view-in-github",
        "colab_type": "text"
      },
      "source": [
        "<a href=\"https://colab.research.google.com/github/carlosfab/curso_data_science_na_pratica/blob/master/introducao_ao_python/1_Vari%C3%A1veis_e_Tipos_de_Dados.ipynb\" target=\"_parent\"><img src=\"https://colab.research.google.com/assets/colab-badge.svg\" alt=\"Open In Colab\"/></a>"
      ]
    },
    {
      "cell_type": "markdown",
      "metadata": {
        "id": "dy92aaZbC74S",
        "colab_type": "text"
      },
      "source": [
        "<p><img alt=\"Colaboratory logo\" width=\"10%\" src=\"http://sigmoidal.ai/wp-content/uploads/2019/09/logo_sigmoidal_s.png\" align=\"left\" hspace=\"10px\" vspace=\"0px\"></p>\n",
        "\n",
        "<h1>Introdução ao Python</h1>\n",
        "\n",
        "\n",
        "Google Colab é um ambiente Jupyter notebook que roda inteiramente na nuvem. Ou seja, você consegue criar e rodar seus projetos de Data Science sem perder tempo configurando sua máquina local."
      ]
    },
    {
      "cell_type": "markdown",
      "metadata": {
        "id": "AxVxcYQflA4y",
        "colab_type": "text"
      },
      "source": [
        "## Comentários\n",
        "\n",
        "Comentários são códigos que não serão executados, mas servem para documentar o seu código. Imagine você fazer um script que tenha 200 linhas e tentar entender ele daqui a 6 meses.\n",
        "\n",
        "Uma boa prática é sempre comentar de maneira que qualquer pessoa seja capaz de entender a lógica que você implementou.\n",
        "\n",
        "Para comentar um pedaço do código, é só colocar o caráter `#` seguido do comentário. "
      ]
    },
    {
      "cell_type": "code",
      "metadata": {
        "id": "2cNfnIJ5lwqN",
        "colab_type": "code",
        "colab": {}
      },
      "source": [
        "# importar bibliotecas necessárias\n",
        "import math\n",
        "\n",
        "# declaração dos parâmetros do modelo\n",
        "taxa_evaporacao = 0.05\n",
        "var_aleatoria = 10.4\n",
        "\n",
        "# otimização do modelo baseado nos parâmetros\n",
        "resultado_otimo = var_aleatoria / (1 + math.exp(-taxa_evaporacao))"
      ],
      "execution_count": 0,
      "outputs": []
    },
    {
      "cell_type": "markdown",
      "metadata": {
        "id": "YT5gvW11nAV9",
        "colab_type": "text"
      },
      "source": [
        "## Função print\n",
        "\n",
        "Para \"imprimir\" uma variável na tela, usamos a função `print()`, passando a variável/valor desejado como argumento.\n",
        "\n",
        "Por exemplo, vamos imprimir o resultado da célula anterior:"
      ]
    },
    {
      "cell_type": "code",
      "metadata": {
        "id": "2kQDDAzEnY-H",
        "colab_type": "code",
        "outputId": "e911a46b-8403-44a2-fe0c-6b66ad069ca4",
        "colab": {
          "base_uri": "https://localhost:8080/",
          "height": 34
        }
      },
      "source": [
        "# imprimir o resultado ótimo\n",
        "print(resultado_otimo)"
      ],
      "execution_count": 0,
      "outputs": [
        {
          "output_type": "stream",
          "text": [
            "5.329972923435788\n"
          ],
          "name": "stdout"
        }
      ]
    },
    {
      "cell_type": "markdown",
      "metadata": {
        "id": "ELAuyOf5nb4n",
        "colab_type": "text"
      },
      "source": [
        "Uma coisa que mesmo que programa há mais tempo desconhece, é que existem mais argumentos que podem ser passados dentro de `print`. Eu consigo definir:\n",
        "\n",
        "* **value:** é o valor que você quer imprimir na tela (pode ser mais de um, desde que separados por vírgula)\n",
        "* **sep:** é o que vai entre os valores passados (o padrão é um espaço em branco)\n",
        "* **end:** após imprimir os valores, define o que vai acontecer no final da função `print` (o padrão é iniciar uma nova linha com `\\n`)"
      ]
    },
    {
      "cell_type": "code",
      "metadata": {
        "id": "8zZyT4C_oA0k",
        "colab_type": "code",
        "outputId": "64d46230-87ad-49e4-fe8f-6bff6a76e261",
        "colab": {
          "base_uri": "https://localhost:8080/",
          "height": 34
        }
      },
      "source": [
        "# imprimir a lista de nomes com \"->\" separando eles\n",
        "nomes = [\"Carlos\", \"Melo\", \"Sigmoidal\"]\n",
        "\n",
        "print(*nomes, sep=\"->\")"
      ],
      "execution_count": 0,
      "outputs": [
        {
          "output_type": "stream",
          "text": [
            "Carlos->Melo->Sigmoidal\n"
          ],
          "name": "stdout"
        }
      ]
    },
    {
      "cell_type": "markdown",
      "metadata": {
        "id": "q8zQ-qO1mTnf",
        "colab_type": "text"
      },
      "source": [
        "## Tipos de variáveis\n",
        "\n",
        "\n",
        "### Números\n",
        "\n",
        "O interpretador do Python pode ser usado para fazer apenas contas simples. De maneira direta, você digita a expressão matemática, executa a célula e obtém o resultado.\n",
        "\n",
        "Além das operações básicas como **somar** (+), **subtrair** (-), **multiplicar** (\\*) e **dividir** (/), há duas outras bem importantes: **exponenciação** (\\*\\*) e **módulo** (%).\n",
        "\n",
        "O sinal de igual (`=`) é usado para declarar uma variável. Ou seja, você cria uma relação entre um valor e um lugar na memória do computador.\n",
        "\n",
        "Precedência..."
      ]
    },
    {
      "cell_type": "code",
      "metadata": {
        "id": "9mIfil6NAwPg",
        "colab_type": "code",
        "outputId": "04194b93-fc4f-4afd-d96f-8c1a7ca73b9f",
        "colab": {
          "base_uri": "https://localhost:8080/",
          "height": 51
        }
      },
      "source": [
        "# soma e subtração\n",
        "print(10 + 4)\n",
        "print(8 - 5)"
      ],
      "execution_count": 0,
      "outputs": [
        {
          "output_type": "stream",
          "text": [
            "10\n",
            "0\n"
          ],
          "name": "stdout"
        }
      ]
    },
    {
      "cell_type": "code",
      "metadata": {
        "id": "MLdTGs-lAMkr",
        "colab_type": "code",
        "outputId": "c3dd0f8b-36ab-4930-80ab-e9a93c7141d0",
        "colab": {
          "base_uri": "https://localhost:8080/",
          "height": 51
        }
      },
      "source": [
        "# multiplicação e divisão\n",
        "print(5 * 2)\n",
        "print(15 / 3)"
      ],
      "execution_count": 0,
      "outputs": [
        {
          "output_type": "stream",
          "text": [
            "10\n",
            "5.0\n"
          ],
          "name": "stdout"
        }
      ]
    },
    {
      "cell_type": "code",
      "metadata": {
        "id": "LUWqv4wTAY4G",
        "colab_type": "code",
        "outputId": "9f4f2cfe-2913-4bab-8010-a3a2fa59a5b6",
        "colab": {
          "base_uri": "https://localhost:8080/",
          "height": 51
        }
      },
      "source": [
        "# exponenciação e módulo\n",
        "print(2 ** 10)\n",
        "print(5 % 2)"
      ],
      "execution_count": 0,
      "outputs": [
        {
          "output_type": "stream",
          "text": [
            "1024\n",
            "1\n"
          ],
          "name": "stdout"
        }
      ]
    },
    {
      "cell_type": "markdown",
      "metadata": {
        "id": "gWtjdTVfhUt3",
        "colab_type": "text"
      },
      "source": [
        "**Exercício:** Imagine que você possui R$ 1000,00 para investir na poupança, com um retorno esperado de 5% ao ano. Calcule quando você vai receber em 8 anos.\n"
      ]
    },
    {
      "cell_type": "code",
      "metadata": {
        "id": "EDDOp9YkAhnk",
        "colab_type": "code",
        "outputId": "b0b00f25-9a7d-4da1-aa6b-2c5380b81872",
        "colab": {
          "base_uri": "https://localhost:8080/",
          "height": 34
        }
      },
      "source": [
        "print(1000 * (1.05)**8)"
      ],
      "execution_count": 0,
      "outputs": [
        {
          "output_type": "stream",
          "text": [
            "1477.455443789063\n"
          ],
          "name": "stdout"
        }
      ]
    },
    {
      "cell_type": "markdown",
      "metadata": {
        "id": "qfpM4noJA09F",
        "colab_type": "text"
      },
      "source": [
        "### Float vs. Int\n",
        "\n",
        "Os números inteiros (como 5, 4, 33) são do tipo `int`, enquanto aqueles números que carregam uma parte fracional (como 5.5, 3.33, 3.14, 5.0) são do tipo `float`. No começo, lidar com tipos de números pode ser confuso, mas a prática vai fazer você entender.\n",
        "\n",
        "Para saber o tipo de uma variável, você pode usar a função `type`."
      ]
    },
    {
      "cell_type": "code",
      "metadata": {
        "id": "UVHU-bx3jKRn",
        "colab_type": "code",
        "outputId": "382753fa-d0d2-46ec-f27a-958df7dee6f9",
        "colab": {
          "base_uri": "https://localhost:8080/",
          "height": 34
        }
      },
      "source": [
        "type(5)  # aqui o 5 é um inteiro"
      ],
      "execution_count": 0,
      "outputs": [
        {
          "output_type": "execute_result",
          "data": {
            "text/plain": [
              "int"
            ]
          },
          "metadata": {
            "tags": []
          },
          "execution_count": 3
        }
      ]
    },
    {
      "cell_type": "code",
      "metadata": {
        "id": "85KqHl4hjZMk",
        "colab_type": "code",
        "outputId": "15b86b57-6083-470b-c064-038840c67374",
        "colab": {
          "base_uri": "https://localhost:8080/",
          "height": 34
        }
      },
      "source": [
        "type(5.0) # aqui o 5.0 é um float"
      ],
      "execution_count": 0,
      "outputs": [
        {
          "output_type": "execute_result",
          "data": {
            "text/plain": [
              "float"
            ]
          },
          "metadata": {
            "tags": []
          },
          "execution_count": 4
        }
      ]
    },
    {
      "cell_type": "code",
      "metadata": {
        "id": "HIK97rx-kRUy",
        "colab_type": "code",
        "outputId": "93d80538-dcff-4314-f2d0-c259b5fe17b7",
        "colab": {
          "base_uri": "https://localhost:8080/",
          "height": 34
        }
      },
      "source": [
        "pi = 3.14\n",
        "type(pi)"
      ],
      "execution_count": 0,
      "outputs": [
        {
          "output_type": "execute_result",
          "data": {
            "text/plain": [
              "float"
            ]
          },
          "metadata": {
            "tags": []
          },
          "execution_count": 7
        }
      ]
    },
    {
      "cell_type": "code",
      "metadata": {
        "id": "cadNEGJ5jcY_",
        "colab_type": "code",
        "outputId": "866a0d66-2f98-46df-cb72-15c126a7ac69",
        "colab": {
          "base_uri": "https://localhost:8080/",
          "height": 68
        }
      },
      "source": [
        "# uma divisão SEMPRE vai retornar um float como resultado\n",
        "print(type(3 / 3))\n",
        "print(type(10.0 / 5))\n",
        "print(type(10.0 / 2.0))"
      ],
      "execution_count": 0,
      "outputs": [
        {
          "output_type": "stream",
          "text": [
            "<class 'float'>\n",
            "<class 'float'>\n",
            "<class 'float'>\n"
          ],
          "name": "stdout"
        }
      ]
    },
    {
      "cell_type": "markdown",
      "metadata": {
        "id": "MNwrEG0kjsYP",
        "colab_type": "text"
      },
      "source": [
        "Existem momentos em que você vai querer converter um `float` em `int`. Isso pode ser feito com `int()`. O mesmo vale para a operação contrário, bastando indicar a variável dentro dos parênteses."
      ]
    },
    {
      "cell_type": "code",
      "metadata": {
        "id": "DQveFX3_j6M-",
        "colab_type": "code",
        "outputId": "c7b75059-5931-4ffa-de3b-45973d013e42",
        "colab": {
          "base_uri": "https://localhost:8080/",
          "height": 51
        }
      },
      "source": [
        "idade = 35.00\n",
        "print(type(idade))\n",
        "\n",
        "# converter\n",
        "idade = int(idade)\n",
        "print(type(idade))"
      ],
      "execution_count": 0,
      "outputs": [
        {
          "output_type": "stream",
          "text": [
            "<class 'float'>\n",
            "<class 'int'>\n"
          ],
          "name": "stdout"
        }
      ]
    },
    {
      "cell_type": "markdown",
      "metadata": {
        "id": "yPVC0zHqlFMF",
        "colab_type": "text"
      },
      "source": [
        "Existe ainda uma opção quando eu quero realizar uma divisão, porém quero ficar apenas com a parte inteira de um número, descartando toda a parte fracionária. Essa operação pode ser feita usando `//`."
      ]
    },
    {
      "cell_type": "code",
      "metadata": {
        "id": "5Wq-UXGgknWf",
        "colab_type": "code",
        "outputId": "a22f56a9-0095-4ca1-87cd-39e48296f2bd",
        "colab": {
          "base_uri": "https://localhost:8080/",
          "height": 51
        }
      },
      "source": [
        "print(11 / 3)  # divisão normal com /\n",
        "print(11 // 3) # divisão usando //"
      ],
      "execution_count": 0,
      "outputs": [
        {
          "output_type": "stream",
          "text": [
            "3.6666666666666665\n",
            "3\n"
          ],
          "name": "stdout"
        }
      ]
    },
    {
      "cell_type": "markdown",
      "metadata": {
        "id": "HaJkjmsnkrlB",
        "colab_type": "text"
      },
      "source": [
        "### Strings\n",
        "\n",
        "Outro tipo de variável que o Python manipula naturalmente são as strings. Você vai ver que o interpretador aceita tanto as aspas duplas (`\"`) quanto as aspas simples (`'`)."
      ]
    },
    {
      "cell_type": "code",
      "metadata": {
        "id": "53pr4lSYnEs_",
        "colab_type": "code",
        "outputId": "f4a8eb82-deb8-41e4-a362-f27f569bc2b7",
        "colab": {
          "base_uri": "https://localhost:8080/",
          "height": 34
        }
      },
      "source": [
        "\"Exemplo de uma string\""
      ],
      "execution_count": 0,
      "outputs": [
        {
          "output_type": "execute_result",
          "data": {
            "text/plain": [
              "'Exemplo de uma string'"
            ]
          },
          "metadata": {
            "tags": []
          },
          "execution_count": 12
        }
      ]
    },
    {
      "cell_type": "code",
      "metadata": {
        "id": "v9Utkzk7nJBZ",
        "colab_type": "code",
        "outputId": "efa05d62-c217-4db2-b41f-8d238aed59f0",
        "colab": {
          "base_uri": "https://localhost:8080/",
          "height": 34
        }
      },
      "source": [
        "nome = \"Carlos Melo\"\n",
        "print(type(nome))"
      ],
      "execution_count": 0,
      "outputs": [
        {
          "output_type": "stream",
          "text": [
            "<class 'str'>\n"
          ],
          "name": "stdout"
        }
      ]
    },
    {
      "cell_type": "markdown",
      "metadata": {
        "id": "MMNWqyCTnN0J",
        "colab_type": "text"
      },
      "source": [
        "Existem alguns caráteres especiais usados para manipula as strings. Por exemplo, se você usar `\\n` em uma string, você vai quebrar a linha exatamente nesse ponto. Caso você precise de tabulação para imprimir um resultado, pode inserir `\\t` no seu código."
      ]
    },
    {
      "cell_type": "code",
      "metadata": {
        "id": "zwgP64nKnu34",
        "colab_type": "code",
        "outputId": "e0412060-e2e0-4e2f-d636-5ee2c4965f67",
        "colab": {
          "base_uri": "https://localhost:8080/",
          "height": 51
        }
      },
      "source": [
        "print(\"Bom dia,\\nBem vindo ao blog Sigmoidal.\")"
      ],
      "execution_count": 0,
      "outputs": [
        {
          "output_type": "stream",
          "text": [
            "Bom dia,\n",
            "Bem vindo ao blog Sigmoidal.\n"
          ],
          "name": "stdout"
        }
      ]
    },
    {
      "cell_type": "code",
      "metadata": {
        "id": "9FYn-QB1n27_",
        "colab_type": "code",
        "outputId": "0dc018eb-1377-4165-8ef7-b66bb2f0f449",
        "colab": {
          "base_uri": "https://localhost:8080/",
          "height": 102
        }
      },
      "source": [
        "# configuração dos parâmetros do modelo\n",
        "alpha = 0.4123122\n",
        "gama = 3.2223\n",
        "num_iter = 10\n",
        "\n",
        "# imprimir os parâmetros na tela\n",
        "print(\"Parâmetros\\n\")\n",
        "print(\"alpha:\\t {:.2}\".format(alpha))\n",
        "print(\"gama:\\t {:.2}\".format(gama))\n",
        "print(\"iter:\\t {}\".format(num_inter))"
      ],
      "execution_count": 0,
      "outputs": [
        {
          "output_type": "stream",
          "text": [
            "Parâmetros\n",
            "\n",
            "alpha:\t 0.41\n",
            "gama:\t 3.2\n",
            "iter:\t 10\n"
          ],
          "name": "stdout"
        }
      ]
    },
    {
      "cell_type": "markdown",
      "metadata": {
        "id": "15SLeKdkqgbz",
        "colab_type": "text"
      },
      "source": [
        "### Bool\n",
        "\n",
        "Esta é uma variável específica para representar Verdadeiro (True) ou Falso (False). São os únicos dois valores possíveis.\n",
        "\n",
        "Por exemplo, vamos supor que no nosso banco de dados da empresa, existe um campo que indica se um cliente fez alguma compra no último mês."
      ]
    },
    {
      "cell_type": "code",
      "metadata": {
        "id": "pystBySuQyQr",
        "colab_type": "code",
        "colab": {
          "base_uri": "https://localhost:8080/",
          "height": 34
        },
        "outputId": "f2c4a5ff-0390-4b2b-a5ee-84dc9a018488"
      },
      "source": [
        "comprou = False\n",
        "\n",
        "if comprou:\n",
        "  print(\"O cliente comprou no último mês\")\n",
        "else:\n",
        "  print(\"O cliente não comprou no último mês\")"
      ],
      "execution_count": 1,
      "outputs": [
        {
          "output_type": "stream",
          "text": [
            "O cliente não comprou no último mês\n"
          ],
          "name": "stdout"
        }
      ]
    },
    {
      "cell_type": "markdown",
      "metadata": {
        "id": "BVHddC2RRErJ",
        "colab_type": "text"
      },
      "source": [
        "Também, pode servir para analisar expressões como a de baixo:"
      ]
    },
    {
      "cell_type": "code",
      "metadata": {
        "id": "xmhDamYVRR_E",
        "colab_type": "code",
        "colab": {
          "base_uri": "https://localhost:8080/",
          "height": 34
        },
        "outputId": "2439467d-65bd-4b2b-8881-6a318e888d3d"
      },
      "source": [
        "4 + 5 == 11"
      ],
      "execution_count": 3,
      "outputs": [
        {
          "output_type": "execute_result",
          "data": {
            "text/plain": [
              "False"
            ]
          },
          "metadata": {
            "tags": []
          },
          "execution_count": 3
        }
      ]
    },
    {
      "cell_type": "code",
      "metadata": {
        "id": "1rP29iBrRUMD",
        "colab_type": "code",
        "colab": {
          "base_uri": "https://localhost:8080/",
          "height": 34
        },
        "outputId": "6e62afb2-c595-40de-835b-d0051040b76e"
      },
      "source": [
        "4 + 5 != 11"
      ],
      "execution_count": 4,
      "outputs": [
        {
          "output_type": "execute_result",
          "data": {
            "text/plain": [
              "True"
            ]
          },
          "metadata": {
            "tags": []
          },
          "execution_count": 4
        }
      ]
    },
    {
      "cell_type": "code",
      "metadata": {
        "id": "qOYvMaKdRZMJ",
        "colab_type": "code",
        "colab": {}
      },
      "source": [
        ""
      ],
      "execution_count": 0,
      "outputs": []
    }
  ]
}