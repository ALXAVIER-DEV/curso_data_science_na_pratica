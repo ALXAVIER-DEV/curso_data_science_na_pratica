{
  "nbformat": 4,
  "nbformat_minor": 0,
  "metadata": {
    "colab": {
      "name": "PROJETO - Analisando a Violência no Rio de Janeirob.ipynb",
      "provenance": [],
      "collapsed_sections": [],
      "include_colab_link": true
    },
    "kernelspec": {
      "name": "python3",
      "display_name": "Python 3"
    }
  },
  "cells": [
    {
      "cell_type": "markdown",
      "metadata": {
        "id": "view-in-github",
        "colab_type": "text"
      },
      "source": [
        "<a href=\"https://colab.research.google.com/github/carlosfab/curso_data_science_na_pratica/blob/master/modulo_02/PROJETO_Analisando_a_Viol%C3%AAncia_no_Rio_de_Janeirob.ipynb\" target=\"_parent\"><img src=\"https://colab.research.google.com/assets/colab-badge.svg\" alt=\"Open In Colab\"/></a>"
      ]
    },
    {
      "cell_type": "markdown",
      "metadata": {
        "id": "-eFQZydM9O9J",
        "colab_type": "text"
      },
      "source": [
        "---\n",
        "\n",
        "**Instruções para o Projeto**\n",
        "\n",
        "* Você deve importar o pandas e importar a base de dados da Polícia Militar do Rio de Janeiro sobre a violência\n",
        "  * O arquivo `csv` se encontra no endereço abaixo:\n",
        "    * https://raw.githubusercontent.com/carlosfab/curso_data_science_na_pratica/master/modulo_02/violencia_rio.csv\n",
        "  * Este arquivo `csv` não está separado por vírgula, mas por ponto e vírgula. Por isso, deve ser importado da seguinte maneira:\n",
        "    * `df = pd.read_csv(\"ENDEREÇO_DO_ARQUIVO_CSV\", sep=\";\")`\n",
        "  * Este é o site oficial, do Governo do Estado do Rio de Janeiro:\n",
        "    * http://www.ispdados.rj.gov.br/estatistica.html\n",
        "  * Um *dashboard* interativo e visual pode ser encontrado no site abaixo:\n",
        "    * http://www.ispvisualizacao.rj.gov.br/index.html\n",
        "  * Você está livre para apagar, alterar e acrescentar o que quiser!\n",
        "  * Sem um guia, você vai sentir mais dificuldade, mas eu te garanto que se sentir fora da zona de conforto vai ser o mais importante no caminho do Data Science\n",
        "  * Se você sentiu dificuldade, não se preocupe! Sexta-feira será disponibilizada a minha análise para você replicar exatamente como eu fiz.\n",
        "    * Se sentir perdido é normal, mas acredite: O seu cérebro vai começar a adquirir uma capacidade nova de pensar em hipóteses, e questionar dados.\n",
        "  \n",
        "  \n",
        "---\n",
        "  "
      ]
    },
    {
      "cell_type": "markdown",
      "metadata": {
        "id": "kLI0gJtzDGuQ",
        "colab_type": "text"
      },
      "source": [
        "<center><img src=\"http://sigmoidal.ai/wp-content/uploads/2019/08/logo_color.png\" height=\"40px\"></center>\n",
        "\n",
        "# Analisando a Violência no Rio de Janeiro\n",
        "\n",
        "Esxreva uma breve introdução contextualizando o problema e o que você vai fazer..."
      ]
    },
    {
      "cell_type": "markdown",
      "metadata": {
        "id": "0zxQHhIUDF_2",
        "colab_type": "text"
      },
      "source": [
        "## Obtenção dos Dados\n",
        "\n",
        "\n",
        "Descreva a fonte dos seus dados e um breve resumo sobre o que se pode esperar desse *dataset*"
      ]
    },
    {
      "cell_type": "markdown",
      "metadata": {
        "id": "7vh4at0l90nr",
        "colab_type": "text"
      },
      "source": [
        "### Importando os dados\n",
        "\n",
        "Importe os dados, usando `df = pd.read_csv(\"endereço_do_csv\", sep=\";\")`"
      ]
    },
    {
      "cell_type": "markdown",
      "metadata": {
        "id": "qb5By2nIMS6m",
        "colab_type": "text"
      },
      "source": [
        "## Análise Inicial dos Dados\n",
        "\n",
        "Breve contextualização...\n",
        "\n",
        "Descreva e execute as seguintes etapas:\n",
        "\n",
        "* Qual o tamanho do seu DataFrame (`shape`)\n",
        "* Extrair e imprimir os nomes das colunas (`columns`)\n",
        "* Quais os tipos das variáveis (`dtypes`)\n",
        "* Visualizar as 5 primeiras linhas (`head`)\n",
        "* Identifique a porcentagem de valores ausentes das colunas\n"
      ]
    },
    {
      "cell_type": "markdown",
      "metadata": {
        "id": "G6dnsNYm-41g",
        "colab_type": "text"
      },
      "source": [
        "## Informações Estatísticas da Violência no Rio de Janeiro\n",
        "\n",
        "Breve contextualização...\n",
        "\n",
        "Descreva e execute as seguintes etapas:\n",
        "\n",
        "* Imprima o resumo estatístico do seu DataFrame (`describe`)\n",
        "* Encontre as médias das seguintes variáveis (colunas):\n",
        "  * `roubo_veiculo`\n",
        "  * `furto_veiculos`\n",
        "  * `recuperacao_veiculos`\n",
        "* Calcule qual a porcentagem de carros recuperados em relação aos carros roubados + carros furtados:\n",
        "  * $\\frac{\\text{roubo_veiculo} + \\text{furto_veiculos}}{ \\text{recuperacao_veiculos}}$\n",
        "* Encontre os valores máximos (`max`) e mínimos (`min`) da coluna `hom_doloso`\n"
      ]
    },
    {
      "cell_type": "markdown",
      "metadata": {
        "id": "7WK0NBQZASKC",
        "colab_type": "text"
      },
      "source": [
        "## Visualização de Dados\n",
        "\n",
        "Breve contextualização...\n",
        "\n",
        "Plote e comente os seguintes gráficos:\n",
        "\n",
        "* Histograma de `hom_doloso`\n",
        "* Gráfico de linhas para a variável `roubo_em_coletivo`\n"
      ]
    },
    {
      "cell_type": "markdown",
      "metadata": {
        "id": "LCsiXvM3BcsO",
        "colab_type": "text"
      },
      "source": [
        "## Conclusão\n",
        "\n",
        "Escreva suas conclusões e análises sobre os indicadores de violência do Rio de Janeiro..."
      ]
    }
  ]
}